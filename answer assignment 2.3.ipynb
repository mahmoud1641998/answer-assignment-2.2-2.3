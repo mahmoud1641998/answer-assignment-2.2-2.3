{
 "cells": [
  {
   "cell_type": "markdown",
   "id": "565dbb5e-7d97-4743-a55e-b6a773ff8c54",
   "metadata": {},
   "source": [
    "1. Write a Python program to add an item to a tuple. \r\n"
   ]
  },
  {
   "cell_type": "code",
   "execution_count": 14,
   "id": "0d2c28dd-816c-4de8-bc18-33fa55ffde67",
   "metadata": {},
   "outputs": [
    {
     "name": "stdout",
     "output_type": "stream",
     "text": [
      "(1, 2, 3, 4, 5, 6, 'c')\n"
     ]
    }
   ],
   "source": [
    "x=(1,2,3,4,5,6)\n",
    "x=list(x)\n",
    "x.append('c')\n",
    "x=tuple(x)\n",
    "print(x)"
   ]
  },
  {
   "cell_type": "markdown",
   "id": "3557ad89-e445-4f62-be3b-c98fc9adb349",
   "metadata": {},
   "source": [
    "2. Write a Python program to sum all the items in a list. "
   ]
  },
  {
   "cell_type": "code",
   "execution_count": 1,
   "id": "b8c47d13-cda8-457d-a86e-fb9dbb1fb4f9",
   "metadata": {},
   "outputs": [
    {
     "name": "stdout",
     "output_type": "stream",
     "text": [
      "45\n"
     ]
    }
   ],
   "source": [
    "x=[1,2,3,4,5,6,7,8,9]\n",
    "print(sum(x))"
   ]
  },
  {
   "cell_type": "markdown",
   "id": "3bae18b3-3450-4320-943d-0fb1b7ffa1f6",
   "metadata": {},
   "source": [
    "3. Write a Python program to multiply all the items in a list. \n"
   ]
  },
  {
   "cell_type": "code",
   "execution_count": 8,
   "id": "d968dac8-b837-4b31-9bc7-41d9d99bfe82",
   "metadata": {},
   "outputs": [
    {
     "name": "stdout",
     "output_type": "stream",
     "text": [
      "362880\n"
     ]
    }
   ],
   "source": [
    "multi=1\n",
    "x=[1,2,3,4,5,6,7,8,9]\n",
    "for i in x:\n",
    "    multi=multi*i\n",
    "print(multi)    "
   ]
  },
  {
   "cell_type": "markdown",
   "id": "734e3f5f-2ea9-463f-9877-0e33d7c7cd39",
   "metadata": {},
   "source": [
    "4. Write a Python program to get the smallest number from a list. \n"
   ]
  },
  {
   "cell_type": "code",
   "execution_count": 20,
   "id": "269ec5cf-1fd8-4187-9922-c4c269cbc69f",
   "metadata": {},
   "outputs": [
    {
     "name": "stdout",
     "output_type": "stream",
     "text": [
      "-1\n"
     ]
    }
   ],
   "source": [
    "x=[1,2,3,4,-1,5,6,7,8,9]\n",
    "print (min(x))"
   ]
  },
  {
   "cell_type": "markdown",
   "id": "20d02665-3ad2-446f-970c-ed12e9a2551b",
   "metadata": {},
   "source": [
    "5. Write a Python program to get the largest number from a list. \n"
   ]
  },
  {
   "cell_type": "code",
   "execution_count": 18,
   "id": "60911034-edba-4ebd-8131-d39b65f4aed9",
   "metadata": {},
   "outputs": [
    {
     "name": "stdout",
     "output_type": "stream",
     "text": [
      "11\n"
     ]
    }
   ],
   "source": [
    "x=[1,2,3,4,5,11,6,7,8,9]\n",
    "print (max(x))"
   ]
  },
  {
   "cell_type": "markdown",
   "id": "dd02ad1b-7056-49ce-8d11-af0fcb52a964",
   "metadata": {},
   "source": [
    "6. Write a Python program to count the number of strings from a given list of \n",
    "strings. "
   ]
  },
  {
   "cell_type": "code",
   "execution_count": 16,
   "id": "fc3364fc-edce-4edb-bef3-24dfe31b88cf",
   "metadata": {},
   "outputs": [
    {
     "name": "stdout",
     "output_type": "stream",
     "text": [
      "8\n"
     ]
    }
   ],
   "source": [
    "my_list=[\"mahmoud\",\"mohamed\",\"ahmed\",\"mostafa\",\"said\",\"heissen\",\"aml\",\"shaimaa\"]\n",
    "print(len(my_list))"
   ]
  },
  {
   "cell_type": "markdown",
   "id": "c0787a6b-eaab-4548-8ada-7f043607d916",
   "metadata": {},
   "source": [
    "7. Write a Python program to clone or copy a list "
   ]
  },
  {
   "cell_type": "markdown",
   "id": "0db64854-d8e5-4a5a-b0a8-50c9b07bd2a9",
   "metadata": {},
   "source": [
    "1-to copy a list\n"
   ]
  },
  {
   "cell_type": "code",
   "execution_count": 31,
   "id": "2dda7f84-b88f-4aa8-bfc5-bba83e407b11",
   "metadata": {},
   "outputs": [],
   "source": [
    "my_list2=my_list"
   ]
  },
  {
   "cell_type": "markdown",
   "id": "a19e66ad-a04b-4d55-9524-6c6696f8109f",
   "metadata": {},
   "source": [
    "2-to clone a list"
   ]
  },
  {
   "cell_type": "code",
   "execution_count": 35,
   "id": "eed85379-7fa5-4840-a773-b36a0e04d229",
   "metadata": {},
   "outputs": [],
   "source": [
    "my_list2=my_list[:]"
   ]
  },
  {
   "cell_type": "markdown",
   "id": "2c3dd602-5062-4f9e-b831-e3e7981a2721",
   "metadata": {},
   "source": [
    "8. Write a Python program to remove item(s) from a given set"
   ]
  },
  {
   "cell_type": "code",
   "execution_count": 18,
   "id": "85b00871-5e20-472e-9861-3ddd4402ab0d",
   "metadata": {},
   "outputs": [],
   "source": [
    "my_set={\"ml\",\"python\",\"ai\",\"data science\"}\n",
    "my_set.remove(\"ai\")"
   ]
  },
  {
   "cell_type": "markdown",
   "id": "ad935c51-dd73-4b04-9354-12976287ed96",
   "metadata": {},
   "source": [
    "9. Write a Python program to check if a set is a subset of another set. \r\n"
   ]
  },
  {
   "cell_type": "code",
   "execution_count": 20,
   "id": "c1424f6a-fd43-4c53-ba7a-b66a90be99b9",
   "metadata": {},
   "outputs": [
    {
     "data": {
      "text/plain": [
       "True"
      ]
     },
     "execution_count": 20,
     "metadata": {},
     "output_type": "execute_result"
    }
   ],
   "source": [
    "my_set={1,2,3,4,1,2,3}\n",
    "my_set2={2,4}\n",
    "my_set2.issubset(my_set)"
   ]
  },
  {
   "cell_type": "markdown",
   "id": "a0dfcf32-165c-408d-8aa3-9a26ef7f6b3d",
   "metadata": {},
   "source": [
    "10. Write a Python program to remove all elements from a given set. \r\n"
   ]
  },
  {
   "cell_type": "code",
   "execution_count": 26,
   "id": "ae8e2916-987a-4f9e-a821-ea960ab8d33a",
   "metadata": {},
   "outputs": [
    {
     "name": "stdout",
     "output_type": "stream",
     "text": [
      "set()\n"
     ]
    }
   ],
   "source": [
    "my_set={1,2,3,4,8,6,9}\n",
    "my_set.clear()\n",
    "print(my_set)"
   ]
  },
  {
   "cell_type": "markdown",
   "id": "40c8e108-85ab-40c5-9ba0-63e49b69a67e",
   "metadata": {},
   "source": [
    "11. Write a Python program to find the maximum and minimum values in a set. \r\n"
   ]
  },
  {
   "cell_type": "code",
   "execution_count": 28,
   "id": "f1931ab6-f423-44bc-b88a-64634c5d1f11",
   "metadata": {},
   "outputs": [
    {
     "name": "stdout",
     "output_type": "stream",
     "text": [
      "8\n",
      "-2\n"
     ]
    }
   ],
   "source": [
    "my_set={1,2,3,-2,4,8,6}\n",
    "print(max(my_set))\n",
    "print(min(my_set))"
   ]
  },
  {
   "cell_type": "markdown",
   "id": "7a3ddd51-5358-4d59-b22b-d5d5896f77ed",
   "metadata": {},
   "source": [
    "12. Write a Python program to find the index of an item in a tuple. \r\n"
   ]
  },
  {
   "cell_type": "code",
   "execution_count": 30,
   "id": "f8b1079b-97d4-4cce-8835-1c1f9ce59904",
   "metadata": {},
   "outputs": [
    {
     "name": "stdout",
     "output_type": "stream",
     "text": [
      "5\n"
     ]
    }
   ],
   "source": [
    "my_tuple=(1,2,5,3,7,9,3)\n",
    "print(my_tuple.index(9))"
   ]
  },
  {
   "cell_type": "markdown",
   "id": "6a80fb72-cc8c-4d26-9795-7c6f1c8344ae",
   "metadata": {},
   "source": [
    "13. Write a Python program to convert a tuple to a dictionary. \r\n"
   ]
  },
  {
   "cell_type": "code",
   "execution_count": 32,
   "id": "bb10077d-f0b5-41a9-8002-8d38e593bdf5",
   "metadata": {},
   "outputs": [
    {
     "name": "stdout",
     "output_type": "stream",
     "text": [
      "{1: 2, 5: 3, 7: 9, 3: 5}\n"
     ]
    }
   ],
   "source": [
    "my_tuple=((1,2),(5,3),(7,9),(3,5))\n",
    "my_dict=dict(my_tuple)\n",
    "print(my_dict)"
   ]
  },
  {
   "cell_type": "markdown",
   "id": "ee974e7c-d701-4410-bca3-95f35a3cff63",
   "metadata": {},
   "source": [
    "14. Write a Python program to unzip a list of tuples into individual lists.  \r\n"
   ]
  },
  {
   "cell_type": "code",
   "execution_count": 12,
   "id": "f4b4c028-4301-44bb-9f12-afd4f7e7e60b",
   "metadata": {},
   "outputs": [
    {
     "name": "stdout",
     "output_type": "stream",
     "text": [
      "[1, 2, 5, 3, 7, 9, 3, 5]\n"
     ]
    }
   ],
   "source": [
    "my_list=[(1,2),(5,3),(7,9),(3,5)]\n",
    "my_list2=[]\n",
    "for i in my_list:\n",
    "    my_list2.extend(i)\n",
    "print(my_list2)\n"
   ]
  },
  {
   "cell_type": "markdown",
   "id": "d0674ca7-f3c9-43ce-b9b5-50881320d6c9",
   "metadata": {},
   "source": [
    "15. Write a Python program to reverse a tuple. \n"
   ]
  },
  {
   "cell_type": "code",
   "execution_count": 34,
   "id": "7777b104-72da-4a11-ad77-bb38f59b82d3",
   "metadata": {},
   "outputs": [
    {
     "name": "stdout",
     "output_type": "stream",
     "text": [
      "(3, 9, 7, 3, 5, 2, 1)\n"
     ]
    }
   ],
   "source": [
    "my_tuple=(1,2,5,3,7,9,3)\n",
    "my_tuple=tuple(list(my_tuple[::-1]))\n",
    "print(my_tuple)"
   ]
  },
  {
   "cell_type": "markdown",
   "id": "ad475d9a-c572-45a4-9a19-6b1f0e56e0c7",
   "metadata": {},
   "source": [
    "16. Write a Python program to convert a list of tuples into a dictionary.  \r\n"
   ]
  },
  {
   "cell_type": "code",
   "execution_count": 36,
   "id": "85833daa-3321-47fc-9ab5-173b157aaab1",
   "metadata": {},
   "outputs": [
    {
     "name": "stdout",
     "output_type": "stream",
     "text": [
      "{1: 2, 5: 3, 7: 9, 3: 5}\n"
     ]
    }
   ],
   "source": [
    "my_list=[(1,2),(5,3),(7,9),(3,5)]\n",
    "my_dict=dict(my_list)\n",
    "print(my_dict)"
   ]
  },
  {
   "cell_type": "markdown",
   "id": "ae3de81f-6d93-4fa0-b4de-8ac35351f263",
   "metadata": {},
   "source": [
    "17. Write a Python program to replace the last value of tuples in a list. \r\n"
   ]
  },
  {
   "cell_type": "code",
   "execution_count": 40,
   "id": "274d8a49-6195-4555-a2d0-182b3f8600df",
   "metadata": {},
   "outputs": [
    {
     "data": {
      "text/plain": [
       "[(10, 20, 100), (40, 50, 100), (70, 80, 100)]"
      ]
     },
     "execution_count": 40,
     "metadata": {},
     "output_type": "execute_result"
    }
   ],
   "source": [
    "sample_list= [(10, 20, 40), (40, 50, 60), (70, 80, 90)] \n",
    "new_list =[(i,j,100) for (i,j,k) in sample_list]\n",
    "new_list"
   ]
  },
  {
   "cell_type": "markdown",
   "id": "1ef33425-9103-4277-b385-c00c6c1102fb",
   "metadata": {},
   "source": [
    "18.  Write a Python program to sort a tuple by its float element. "
   ]
  },
  {
   "cell_type": "code",
   "execution_count": 62,
   "id": "53b05b41-7071-4703-bb20-bb70eb2e980c",
   "metadata": {},
   "outputs": [],
   "source": [
    "my_tuple =[('lucky', '18.265'),('nikhil', '14.107'),('akash', '24.541'), ('anand', '4.256'), ('gaurav', '10.365')]"
   ]
  },
  {
   "cell_type": "code",
   "execution_count": 76,
   "id": "3d54d3b9-98db-4bfd-b5ef-df49f0ebf080",
   "metadata": {},
   "outputs": [
    {
     "name": "stdout",
     "output_type": "stream",
     "text": [
      "[('anand', '4.256'), ('gaurav', '10.365'), ('nikhil', '14.107'), ('lucky', '18.265'), ('akash', '24.541')]\n"
     ]
    }
   ],
   "source": [
    "print(sorted(my_tuple, key = lambda x: float(x[1])))"
   ]
  },
  {
   "cell_type": "code",
   "execution_count": null,
   "id": "a05e8318-9893-4b4b-a288-97d1c5cfe923",
   "metadata": {},
   "outputs": [],
   "source": []
  }
 ],
 "metadata": {
  "kernelspec": {
   "display_name": "Python 3 (ipykernel)",
   "language": "python",
   "name": "python3"
  },
  "language_info": {
   "codemirror_mode": {
    "name": "ipython",
    "version": 3
   },
   "file_extension": ".py",
   "mimetype": "text/x-python",
   "name": "python",
   "nbconvert_exporter": "python",
   "pygments_lexer": "ipython3",
   "version": "3.12.4"
  }
 },
 "nbformat": 4,
 "nbformat_minor": 5
}
