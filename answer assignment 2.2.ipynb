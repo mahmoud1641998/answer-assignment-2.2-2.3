{
 "cells": [
  {
   "cell_type": "markdown",
   "id": "64d0294e-3a48-4849-8b4f-fde82dfb5b92",
   "metadata": {},
   "source": [
    "1) Write a program to print the maximum between two numbers. (one-line conditional statement)¶"
   ]
  },
  {
   "cell_type": "code",
   "execution_count": 38,
   "id": "1a48aa61-7e65-41ef-ba07-21a8dc43967e",
   "metadata": {},
   "outputs": [
    {
     "name": "stdin",
     "output_type": "stream",
     "text": [
      "enter first num  3\n",
      "enter second num  5\n"
     ]
    },
    {
     "name": "stdout",
     "output_type": "stream",
     "text": [
      "5\n"
     ]
    }
   ],
   "source": [
    "x=int(input(\"enter first num \"))\n",
    "y=int(input(\"enter second num \"))\n",
    "print(x) if x>y else print(y)"
   ]
  },
  {
   "cell_type": "markdown",
   "id": "2cbdd1ef-3382-4822-9642-c6ff66c1ad4a",
   "metadata": {},
   "source": [
    "2) Write a program to find the maximum between three numbers."
   ]
  },
  {
   "cell_type": "code",
   "execution_count": 17,
   "id": "26b93f15-c392-480a-a130-f34f7e97d200",
   "metadata": {},
   "outputs": [
    {
     "name": "stdin",
     "output_type": "stream",
     "text": [
      "enter first num  7\n",
      "enter second num  5\n",
      "enter second num  4\n"
     ]
    },
    {
     "name": "stdout",
     "output_type": "stream",
     "text": [
      "7\n"
     ]
    }
   ],
   "source": [
    "x=int(input(\"enter first num \"))\n",
    "y=int(input(\"enter second num \"))\n",
    "z=int(input(\"enter second num \"))\n",
    "print(x) if x>y and x>z else (print(y) if y>x and y>z else print (z))"
   ]
  },
  {
   "cell_type": "markdown",
   "id": "343f9117-505e-477a-846f-ef51559e2dae",
   "metadata": {},
   "source": [
    "3) Write a program to check whether a number is negative, or positive"
   ]
  },
  {
   "cell_type": "code",
   "execution_count": 22,
   "id": "7725ebfb-0b62-49b0-900b-45f8b00821aa",
   "metadata": {},
   "outputs": [
    {
     "name": "stdin",
     "output_type": "stream",
     "text": [
      "enter your number  6\n"
     ]
    },
    {
     "name": "stdout",
     "output_type": "stream",
     "text": [
      "this is positive \n"
     ]
    }
   ],
   "source": [
    "x=int(input(\"enter your number \"))\n",
    "print (\"this is positive \") if x>=0 else print(\"this is negative\")"
   ]
  },
  {
   "cell_type": "markdown",
   "id": "b612e376-ce7d-4c3d-9afd-88bd03eb2810",
   "metadata": {},
   "source": [
    "4) Write a program to check whether a number is even or odd¶"
   ]
  },
  {
   "cell_type": "code",
   "execution_count": 31,
   "id": "acea6f93-31b5-4a55-913b-315fb0fa41e9",
   "metadata": {},
   "outputs": [
    {
     "name": "stdin",
     "output_type": "stream",
     "text": [
      "enter your number  383762552\n"
     ]
    },
    {
     "name": "stdout",
     "output_type": "stream",
     "text": [
      "this is even \n"
     ]
    }
   ],
   "source": [
    "x=int(input(\"enter your number \"))\n",
    "print (\"this is even \") if x%2==0 else print(\"this is odd\")"
   ]
  },
  {
   "cell_type": "markdown",
   "id": "ec9934c1-48b1-4afd-a293-6731cb2ac188",
   "metadata": {},
   "source": [
    "5) Write a program to store the weekdays in a list and access the week day and print it by index."
   ]
  },
  {
   "cell_type": "code",
   "execution_count": 36,
   "id": "2d3832e8-5a31-4705-b399-2c93b1bb0dd1",
   "metadata": {},
   "outputs": [
    {
     "name": "stdout",
     "output_type": "stream",
     "text": [
      "Wednesday\n"
     ]
    }
   ],
   "source": [
    "weekdays=[\"saterday\",\"sunday\",\"monday\",\"Tuesday\",\"Wednesday\",\"Thursday\",\"Friday\"]\n",
    "print(weekdays[4])"
   ]
  },
  {
   "cell_type": "markdown",
   "id": "5f1cc8e5-34e3-40bb-98f4-898f5e82698d",
   "metadata": {},
   "source": [
    "  6.Write a program to store numbers in the List and print its reverse"
   ]
  },
  {
   "cell_type": "code",
   "execution_count": 53,
   "id": "9162717c-64c5-4219-8f51-d7cbc2c042f7",
   "metadata": {},
   "outputs": [
    {
     "name": "stdin",
     "output_type": "stream",
     "text": [
      "enter your numbers with spaces 2 3 4 5 6 6 7 8 9 10\n"
     ]
    },
    {
     "name": "stdout",
     "output_type": "stream",
     "text": [
      "[10, 9, 8, 7, 6, 6, 5, 4, 3, 2]\n"
     ]
    }
   ],
   "source": [
    "x=input(\"enter your numbers with spaces\")\n",
    "x=x.split()\n",
    "x=[int(i) for i in x ]\n",
    "print(x[::-1])"
   ]
  },
  {
   "cell_type": "markdown",
   "id": "d0610629-6ccc-4a43-97d4-fc3c66383272",
   "metadata": {},
   "source": [
    "7) Write a program to print the multiplcation table of any number"
   ]
  },
  {
   "cell_type": "code",
   "execution_count": 60,
   "id": "4dbba9f0-b9c3-4acc-9272-a52d853310e1",
   "metadata": {},
   "outputs": [
    {
     "name": "stdin",
     "output_type": "stream",
     "text": [
      "enter your number  8\n"
     ]
    },
    {
     "name": "stdout",
     "output_type": "stream",
     "text": [
      "8 *1 = 8\n",
      "8 *2 = 16\n",
      "8 *3 = 24\n",
      "8 *4 = 32\n",
      "8 *5 = 40\n",
      "8 *6 = 48\n",
      "8 *7 = 56\n",
      "8 *8 = 64\n",
      "8 *9 = 72\n",
      "8 *10 = 80\n",
      "8 *11 = 88\n",
      "8 *12 = 96\n"
     ]
    }
   ],
   "source": [
    "x=int(input(\"enter your number \"))\n",
    "for i in range(1,13):\n",
    "    print (f\"{x} *{i} = {x*i}\")"
   ]
  },
  {
   "cell_type": "markdown",
   "id": "f5bea36c-0770-432a-ba62-43cae381cc12",
   "metadata": {},
   "source": [
    "8) Write a program to print all even numbers between 1 to 100.(using while loop and for loop)"
   ]
  },
  {
   "cell_type": "code",
   "execution_count": 63,
   "id": "7e9e77cb-f915-4d49-988d-d2f2eedad7e2",
   "metadata": {},
   "outputs": [
    {
     "name": "stdout",
     "output_type": "stream",
     "text": [
      "2\n",
      "4\n",
      "6\n",
      "8\n",
      "10\n",
      "12\n",
      "14\n",
      "16\n",
      "18\n",
      "20\n",
      "22\n",
      "24\n",
      "26\n",
      "28\n",
      "30\n",
      "32\n",
      "34\n",
      "36\n",
      "38\n",
      "40\n",
      "42\n",
      "44\n",
      "46\n",
      "48\n",
      "50\n",
      "52\n",
      "54\n",
      "56\n",
      "58\n",
      "60\n",
      "62\n",
      "64\n",
      "66\n",
      "68\n",
      "70\n",
      "72\n",
      "74\n",
      "76\n",
      "78\n",
      "80\n",
      "82\n",
      "84\n",
      "86\n",
      "88\n",
      "90\n",
      "92\n",
      "94\n",
      "96\n",
      "98\n",
      "100\n"
     ]
    }
   ],
   "source": [
    "for i in range(1,101):\n",
    "    print(i) if i%2==0 else \"\""
   ]
  },
  {
   "cell_type": "code",
   "execution_count": 1,
   "id": "be89dbb9-7ef9-4e2e-bb27-32a6a4a02094",
   "metadata": {},
   "outputs": [
    {
     "name": "stdout",
     "output_type": "stream",
     "text": [
      "2\n",
      "4\n",
      "6\n",
      "8\n",
      "10\n",
      "12\n",
      "14\n",
      "16\n",
      "18\n",
      "20\n",
      "22\n",
      "24\n",
      "26\n",
      "28\n",
      "30\n",
      "32\n",
      "34\n",
      "36\n",
      "38\n",
      "40\n",
      "42\n",
      "44\n",
      "46\n",
      "48\n",
      "50\n",
      "52\n",
      "54\n",
      "56\n",
      "58\n",
      "60\n",
      "62\n",
      "64\n",
      "66\n",
      "68\n",
      "70\n",
      "72\n",
      "74\n",
      "76\n",
      "78\n",
      "80\n",
      "82\n",
      "84\n",
      "86\n",
      "88\n",
      "90\n",
      "92\n",
      "94\n",
      "96\n",
      "98\n",
      "100\n"
     ]
    }
   ],
   "source": [
    "x,i=100,1\n",
    "while i<=x:\n",
    "    print(i) if i%2==0 else \"\"\n",
    "    i+=1"
   ]
  },
  {
   "cell_type": "code",
   "execution_count": null,
   "id": "d98e39b1-da79-4d1e-ac99-4f52476a6db1",
   "metadata": {},
   "outputs": [],
   "source": []
  }
 ],
 "metadata": {
  "kernelspec": {
   "display_name": "Python 3 (ipykernel)",
   "language": "python",
   "name": "python3"
  },
  "language_info": {
   "codemirror_mode": {
    "name": "ipython",
    "version": 3
   },
   "file_extension": ".py",
   "mimetype": "text/x-python",
   "name": "python",
   "nbconvert_exporter": "python",
   "pygments_lexer": "ipython3",
   "version": "3.12.4"
  }
 },
 "nbformat": 4,
 "nbformat_minor": 5
}
